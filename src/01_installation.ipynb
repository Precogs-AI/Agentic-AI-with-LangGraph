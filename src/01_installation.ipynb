{
 "cells": [
  {
   "cell_type": "code",
   "execution_count": 6,
   "id": "5e478568",
   "metadata": {},
   "outputs": [],
   "source": [
    "from langgraph.graph import StateGraph, START, END\n",
    "from typing import TypedDict"
   ]
  },
  {
   "cell_type": "code",
   "execution_count": 15,
   "id": "d2d01f1d",
   "metadata": {},
   "outputs": [],
   "source": [
    "# define state graph\n",
    "\n",
    "class BMIState(TypedDict):\n",
    "    weight: float  # in kilograms\n",
    "    height: float  # in meters\n",
    "    bmi: float    # Body Mass Index\n",
    "    category: str  # BMI Category"
   ]
  },
  {
   "cell_type": "code",
   "execution_count": 8,
   "id": "291f5dac",
   "metadata": {},
   "outputs": [],
   "source": [
    "def calculate_bmi(state: BMIState) -> BMIState:\n",
    "    \"\"\"Calculate BMI given weight and height.\"\"\"\n",
    "    weight = state['weight']\n",
    "    height = state['height']\n",
    "    bmi = weight / (height ** 2)\n",
    "    state['bmi'] = round(bmi, 2)\n",
    "    return state\n",
    "\n"
   ]
  },
  {
   "cell_type": "code",
   "execution_count": 16,
   "id": "824bf544",
   "metadata": {},
   "outputs": [],
   "source": [
    "def label_bmi_category(state: BMIState) -> BMIState:\n",
    "    \"\"\"Label BMI category based on BMI value.\"\"\"\n",
    "    bmi = state['bmi']\n",
    "    if bmi < 18.5:\n",
    "        category = \"Underweight\"\n",
    "    elif 18.5 <= bmi < 24.9:\n",
    "        category = \"Normal weight\"\n",
    "    elif 25 <= bmi < 29.9:\n",
    "        category = \"Overweight\"\n",
    "    else:\n",
    "        category = \"Obesity\"\n",
    "    state['category'] = category\n",
    "    return state"
   ]
  },
  {
   "cell_type": "code",
   "execution_count": 17,
   "id": "d76cb6af",
   "metadata": {},
   "outputs": [],
   "source": [
    "# define the state graph\n",
    "graph=StateGraph(BMIState)\n",
    "# add nodes to the graph\n",
    "graph.add_node(\"calculate_bmi\", calculate_bmi)\n",
    "graph.add_node(\"label_bmi_category\", label_bmi_category)\n",
    "\n",
    "#add edges to the graph\n",
    "graph.add_edge(START, \"calculate_bmi\")\n",
    "graph.add_edge(\"calculate_bmi\", \"label_bmi_category\")\n",
    "graph.add_edge(\"label_bmi_category\", END)\n",
    "\n",
    "# compile the graph\n",
    "workflow=graph.compile()\n",
    "\n"
   ]
  },
  {
   "cell_type": "code",
   "execution_count": 19,
   "id": "84cd74fc",
   "metadata": {},
   "outputs": [
    {
     "name": "stdout",
     "output_type": "stream",
     "text": [
      "{'weight': 80.0, 'height': 1.73, 'bmi': 26.73, 'category': 'Overweight'}\n"
     ]
    }
   ],
   "source": [
    "initial_state={\"weight\": 80.0, \"height\": 1.73, \"bmi\": 0.0}\n",
    "final_state=workflow.invoke(initial_state)\n",
    "print(final_state)"
   ]
  },
  {
   "cell_type": "code",
   "execution_count": 18,
   "id": "cc0f4d95",
   "metadata": {},
   "outputs": [
    {
     "data": {
      "image/png": "[encoded data removed]",
      "text/plain": [
       "<IPython.core.display.Image object>"
      ]
     },
     "execution_count": 18,
     "metadata": {},
     "output_type": "execute_result"
    }
   ],
   "source": [
    "# display the graph\n",
    "from IPython.display import Image\n",
    "Image(workflow.get_graph().draw_mermaid_png())\n"
   ]
  }
 ],
 "metadata": {
  "kernelspec": {
   "display_name": "venv",
   "language": "python",
   "name": "python3"
  },
  "language_info": {
   "codemirror_mode": {
    "name": "ipython",
    "version": 3
   },
   "file_extension": ".py",
   "mimetype": "text/x-python",
   "name": "python",
   "nbconvert_exporter": "python",
   "pygments_lexer": "ipython3",
   "version": "3.13.4"
  }
 },
 "nbformat": 4,
 "nbformat_minor": 5
}
